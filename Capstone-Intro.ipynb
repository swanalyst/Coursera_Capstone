{
 "cells": [
  {
   "cell_type": "markdown",
   "metadata": {},
   "source": [
    "<h1>Introduction</h1>\n",
    "\n",
    "It is well known that a separatist movement exists in French speaking Canada. Political decision-makers in Canada may want a better understanding of the phenomenon, in order to tailor their political campaigns better or for supporting decision making when in office. The purpose of the project is to explore the nature and extent of cultural similarities and differences between English speaking Toronto and French speaking Quebec City, using the Foursquare API to uncover the patterns. The foreign cultural identities in the project are represented by venues in New York, London and Paris.\n",
    "Possible outcomes are projected to be that\n",
    "<ol>\n",
    "<li>the two cities share a common Canadian identity more than they separated by foreign identities.</li>\n",
    "    <li>the two cities are separated by foreign cultural identities.</li>\n",
    "    <li>all cities in the study are more individual than similar when\n",
    "        comparing them by top venues.</li>\n",
    "<li>the two cities share a North American cultural identity with NY,\n",
    "    with perhaps a predominance of fast food.</li>\n",
    "<li>one of the cities is more individual, while the other has a\n",
    "    stronger foreign cultural identity.</li>\n",
    "<li>the cosmopolitan cities share a cultural identity compared to\n",
    "    the provincial cities (Quebec City).</li>\n",
    "</ol>\n",
    "\n",
    "Although the population size of Montreal is more comparable to that of Toronto, it is also closer geographically and intuitively may not be representative of French speaking Canada as a whole as this article also suggests\n",
    "\n",
    "https://www.vice.com/en_ca/article/exkmee/could-montreal-benefit-from-being-a-sovereign-city-state\n",
    "\n",
    "In order to separately investigate the theory of geographical proximity contributing to the venue mix, the venues of Toronto, Quebec City and New York will also be combined and used to predict the venues of Montreal with an appropriate non-optimized classifier, or alternatively with an average of classifiers. The same dataset and method will also be used for predicting venues in Vancouver, and the accuracies of the predictions will be compared. Scientific validity is not claimed as the sample size is small, this will be only a footnote to the project.\n",
    "\n",
    "General conclusions that can be drawn from the project include whether the separatist movement in Canada is accompanied by tangible cultural differences, however a more comprehensive investigation of cause and effect (such as the contribution of economic factors to the movement) is beyond the scope of the project."
   ]
  },
  {
   "cell_type": "code",
   "execution_count": null,
   "metadata": {},
   "outputs": [],
   "source": []
  }
 ],
 "metadata": {
  "kernelspec": {
   "display_name": "Python 3",
   "language": "python",
   "name": "python3"
  },
  "language_info": {
   "codemirror_mode": {
    "name": "ipython",
    "version": 3
   },
   "file_extension": ".py",
   "mimetype": "text/x-python",
   "name": "python",
   "nbconvert_exporter": "python",
   "pygments_lexer": "ipython3",
   "version": "3.6.8"
  },
  "widgets": {
   "state": {},
   "version": "1.1.2"
  }
 },
 "nbformat": 4,
 "nbformat_minor": 2
}

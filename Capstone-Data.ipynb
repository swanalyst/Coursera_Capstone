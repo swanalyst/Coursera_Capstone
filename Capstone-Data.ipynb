{
 "cells": [
  {
   "cell_type": "markdown",
   "metadata": {},
   "source": [
    "<h1>Data</h1>\n",
    "\n",
    "The Foursquare API will be used in the project. Food is generally acknowledged as a representative expression of national culture, consequently the project will focus on food venues. The top 100 food venues in Toronto will be compared with the top 100 food venues in Quebec City, and each will also be compared with the top 100 food venues in New York, London and Paris. East Asian, African and South American venues will be grouped into continental categories in order to reduce outlier effects. In general only the highest level categories for the venues will be used, so for example \"Burrito Place\", \"Taco Place\" and \"Tex-Mex Restaurant\" will be grouped into their higher level Foursquare category \"Mexican Restaurant\". The similarity metric is likely to be Jaccard index, however this is subject to review in the implementation sections. A possible concern is whether the Foursquare call quotas are exceeded, so attention must be paid to the limit parameter while on the other hand the city radius parameter must be as representative as possible. The best value for the latter parameter can be examined visually with an application like Google Maps."
   ]
  },
  {
   "cell_type": "markdown",
   "metadata": {},
   "source": []
  }
 ],
 "metadata": {
  "kernelspec": {
   "display_name": "Python 3",
   "language": "python",
   "name": "python3"
  },
  "language_info": {
   "codemirror_mode": {
    "name": "ipython",
    "version": 3
   },
   "file_extension": ".py",
   "mimetype": "text/x-python",
   "name": "python",
   "nbconvert_exporter": "python",
   "pygments_lexer": "ipython3",
   "version": "3.6.8"
  },
  "widgets": {
   "state": {},
   "version": "1.1.2"
  }
 },
 "nbformat": 4,
 "nbformat_minor": 2
}
